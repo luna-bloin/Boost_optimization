{
 "cells": [
  {
   "cell_type": "markdown",
   "id": "b97f1e5f-3ccf-4946-b20a-49c9dcacb6ae",
   "metadata": {},
   "source": [
    "# Running the allocation algorithm for different setups\n",
    "Example of Vanos scores in different European regions\n",
    "\n",
    "To run this jupyter notebook, you need to upload the necessary vanos files in \"inputs/tor_runs/\""
   ]
  },
  {
   "cell_type": "code",
   "execution_count": 1,
   "id": "d856d114-89b5-4093-bf27-6b2d98c6f704",
   "metadata": {},
   "outputs": [],
   "source": [
    "# imports\n",
    "import xarray as xr\n",
    "# file location\n",
    "path = \"../inputs/tor_runs/\""
   ]
  },
  {
   "cell_type": "markdown",
   "id": "d8675508-2f69-4a2e-87cc-ddd33896461e",
   "metadata": {},
   "source": [
    "## Part 1: Southern Europe\n",
    "Note: here, all three cases are treated separately. Therefore, lead_ID = lead time, and not (case, lead_time)"
   ]
  },
  {
   "cell_type": "code",
   "execution_count": 2,
   "id": "1fe13b3e-3674-416b-8bc2-32b525dbda15",
   "metadata": {},
   "outputs": [],
   "source": [
    "# === open file, rename to fit code convertions and saved separately ===\n",
    "ds = xr.open_dataset(f\"{path}Vanos_south.nc\").rename({\"event\":\"case\",\"leadtime\":\"lead_ID\",\"realization\":\"member\"}).drop_vars((\"quantile\"))\n",
    "cases = [] # list of the three cases\n",
    "for case in ds.case:\n",
    "    cases.append(case.values)\n",
    "    ds[\"lead_ID\"] = [f\"{str(ld)[0:10]}\" for ld in ds.lead_ID.values]\n",
    "    ds.sel(case=case).drop_vars(\"case\").to_netcdf(f\"{path}boosted_{case.values}_vanos.nc\")"
   ]
  },
  {
   "cell_type": "code",
   "execution_count": 3,
   "id": "3c7664f0-561f-4f20-b907-ab1a5496ebcc",
   "metadata": {},
   "outputs": [
    {
     "name": "stdout",
     "output_type": "stream",
     "text": [
      "b05_2023\n",
      "opening ../inputs/tor_runs/boosted_b05_2023_vanos.nc, allocation length = 10, batch size = 100\n",
      "{'2023-06-08': 47, '2023-06-09': 20, '2023-06-17': 22, '2023-06-04': 11, '2023-06-13': 0}\n",
      "b09_2022\n",
      "opening ../inputs/tor_runs/boosted_b09_2022_vanos.nc, allocation length = 10, batch size = 100\n",
      "{'2022-06-24': 34, '2022-06-25': 36, '2022-06-27': 20, '2022-07-04': 6, '2022-06-23': 4}\n",
      "b16_2031\n",
      "opening ../inputs/tor_runs/boosted_b16_2031_vanos.nc, allocation length = 10, batch size = 100\n",
      "{'2031-06-08': 20, '2031-06-22': 16, '2031-06-19': 16, '2031-06-11': 13, '2031-06-26': 13, '2031-06-27': 11, '2031-06-16': 8, '2031-06-18': 3, '2031-06-23': 0}\n"
     ]
    }
   ],
   "source": [
    "# === Run ===\n",
    "n_top = 10 # the number of top events to be taken into account for the allocation\n",
    "n_batch = 100 # the total number of new allocated realizations\n",
    "allocation_type = \"Weighted\"\n",
    "for case in cases:\n",
    "    print(case)\n",
    "    file = f'{path}boosted_{case}_vanos.nc'\n",
    "    %run ../code/allocation_algorithm.py {file} {n_top} {n_batch} {allocation_type}"
   ]
  },
  {
   "cell_type": "code",
   "execution_count": null,
   "id": "66d73a6e-e9f2-4527-86ed-680b5e3b9f09",
   "metadata": {},
   "outputs": [],
   "source": []
  }
 ],
 "metadata": {
  "kernelspec": {
   "display_name": "Python (iacpy3_2024)",
   "language": "python",
   "name": "iacpy3_2024"
  },
  "language_info": {
   "codemirror_mode": {
    "name": "ipython",
    "version": 3
   },
   "file_extension": ".py",
   "mimetype": "text/x-python",
   "name": "python",
   "nbconvert_exporter": "python",
   "pygments_lexer": "ipython3",
   "version": "3.11.8"
  }
 },
 "nbformat": 4,
 "nbformat_minor": 5
}
